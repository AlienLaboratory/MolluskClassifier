{
  "nbformat": 4,
  "nbformat_minor": 0,
  "metadata": {
    "colab": {
      "name": "Train a Food Model.ipynb",
      "provenance": [],
      "collapsed_sections": [],
      "toc_visible": true,
      "authorship_tag": "ABX9TyO0rXTNZTCFYDvTpworgdjw",
      "include_colab_link": true
    },
    "kernelspec": {
      "display_name": "Python 3",
      "name": "python3"
    }
  },
  "cells": [
    {
      "cell_type": "markdown",
      "metadata": {
        "id": "view-in-github",
        "colab_type": "text"
      },
      "source": [
        "<a href=\"https://colab.research.google.com/github/Sebastian-Schuchmann/ChurrorsSamosaClassifier/blob/main/Train_a_Food_Model.ipynb\" target=\"_parent\"><img src=\"https://colab.research.google.com/assets/colab-badge.svg\" alt=\"Open In Colab\"/></a>"
      ]
    },
    {
      "cell_type": "markdown",
      "metadata": {
        "id": "4uWUAk9dwaga"
      },
      "source": [
        "# Training a Food Classifier\n"
      ]
    },
    {
      "cell_type": "markdown",
      "metadata": {
        "id": "IfoMcIvNNnup"
      },
      "source": [
        "## Load and prepare Data"
      ]
    },
    {
      "cell_type": "markdown",
      "metadata": {
        "id": "1fFWSZtrwfJW"
      },
      "source": [
        "First we need to update the notebook to the latest version of fastai."
      ]
    },
    {
      "cell_type": "markdown",
      "metadata": {
        "id": "B1oXihOFZm9E"
      },
      "source": [
        ""
      ]
    },
    {
      "cell_type": "code",
      "metadata": {
        "id": "jJyngV4Fjnbv"
      },
      "source": [
        "!pip install -Uqq fastai \n",
        "from fastai.vision.all import *"
      ],
      "execution_count": null,
      "outputs": []
    },
    {
      "cell_type": "markdown",
      "metadata": {
        "id": "FxzIJWfEkKD8"
      },
      "source": [
        "At first we are downloading the Food Dataset, containing about 100k images of various kind of foods.\n",
        "Documentation for all Datasets: https://docs.fast.ai/data.external"
      ]
    },
    {
      "cell_type": "code",
      "metadata": {
        "id": "sOFNbnRqkQNK"
      },
      "source": [
        "foodPath = untar_data(URLs.FOOD)"
      ],
      "execution_count": null,
      "outputs": []
    },
    {
      "cell_type": "code",
      "metadata": {
        "id": "7r9DLWZwle09"
      },
      "source": [
        "#How many images are we dealing with\n",
        "len(get_image_files(foodPath))"
      ],
      "execution_count": null,
      "outputs": []
    },
    {
      "cell_type": "code",
      "metadata": {
        "id": "JDeBD6zammYh"
      },
      "source": [
        "#Use Pandas to parse the JSON as a human readable table\n",
        "pd.read_json('/root/.fastai/data/food-101/test.json')"
      ],
      "execution_count": null,
      "outputs": []
    },
    {
      "cell_type": "code",
      "metadata": {
        "id": "ekDW8aXaO8B2"
      },
      "source": [
        "#Deciding which two foods we want to classify\n",
        "labelA = 'samosa'\n",
        "labelB = 'churros'"
      ],
      "execution_count": null,
      "outputs": []
    },
    {
      "cell_type": "markdown",
      "metadata": {
        "id": "OAXTTsN9PA1N"
      },
      "source": [
        "**Some Data Preperation**\n",
        "\n",
        "Next we're gonna do some preperation to make the data handling easier. It's not important that you understand the following code snippet completly.\n",
        "\n",
        "We're just doing two things:\n",
        "\n",
        "\n",
        "1.   Removing all images that don't have labelA or labelB\n",
        "2.   Renaming images with labelA or labelB to have that label in their filename\n",
        "\n"
      ]
    },
    {
      "cell_type": "code",
      "metadata": {
        "id": "ZUhimik3og6z"
      },
      "source": [
        "#Loop through all Images downloaded\n",
        "for img in get_image_files(foodPath):    \n",
        "  #Rename Images so that the Label (Samosa or Churros) is in the file name\n",
        "  if labelA in str(img):\n",
        "    img.rename(f\"{img.parent}/{labelA}_{img.name}\")\n",
        "  elif labelB in str(img):\n",
        "    img.rename(f\"{img.parent}/{labelB}_{img.name}\")\n",
        "  else: os.remove(img) #If the Images are not part of labelA or labelB\n",
        "\n",
        "len(get_image_files(foodPath))"
      ],
      "execution_count": null,
      "outputs": []
    },
    {
      "cell_type": "markdown",
      "metadata": {
        "id": "iAcyebowOSE3"
      },
      "source": [
        "## Train Model"
      ]
    },
    {
      "cell_type": "code",
      "metadata": {
        "id": "v1JxHmHbOQD5"
      },
      "source": [
        "def GetLabel(fileName):\n",
        "  return fileName.split('_')[0]\n",
        "\n",
        "GetLabel(\"churros_734186.jpg\") #Testing"
      ],
      "execution_count": null,
      "outputs": []
    },
    {
      "cell_type": "code",
      "metadata": {
        "id": "_isQjSZ8nhut"
      },
      "source": [
        "dls = ImageDataLoaders.from_name_func(\n",
        "    foodPath, get_image_files(foodPath), valid_pct=0.2, seed=420,\n",
        "    label_func=GetLabel, item_tfms=Resize(224))\n",
        "\n",
        "dls.valid.show_batch()"
      ],
      "execution_count": null,
      "outputs": []
    },
    {
      "cell_type": "code",
      "metadata": {
        "id": "vZgFa9vdh7oZ"
      },
      "source": [
        "learn = cnn_learner(dls, resnet34, metrics=error_rate, pretrained=True)\n",
        "learn.fine_tune(epochs=1)"
      ],
      "execution_count": null,
      "outputs": []
    },
    {
      "cell_type": "markdown",
      "metadata": {
        "id": "KDJ9tN696LZR"
      },
      "source": [
        "Check out this while training to have look inside a Convolutional Neural Network.\n",
        "\n",
        "https://distill.pub/2017/feature-visualization/"
      ]
    },
    {
      "cell_type": "markdown",
      "metadata": {
        "id": "8UyNZyc1Ne15"
      },
      "source": [
        "## Verify Model"
      ]
    },
    {
      "cell_type": "markdown",
      "metadata": {
        "id": "IvZWtIniH2Bw"
      },
      "source": [
        "### Upload your own Images"
      ]
    },
    {
      "cell_type": "code",
      "metadata": {
        "id": "fQgVZ95CD-TT"
      },
      "source": [
        "from google.colab import files\n",
        "uploader = files.upload()\n",
        "\n",
        "for img in uploader.items():\n",
        "  uploadedImg = img[0]\n",
        "\n",
        "img = PILImage.create(uploadedImg)\n",
        "img.show()\n",
        "\n",
        "label,_,probs = learn.predict(img)\n",
        "\n",
        "print(f\"This is a {label}.\")\n",
        "print(f\"{labelA} {probs[1].item():.6f}\")\n",
        "print(f\"{labelB} {probs[0].item():.6f}\")"
      ],
      "execution_count": null,
      "outputs": []
    },
    {
      "cell_type": "markdown",
      "metadata": {
        "id": "JiTFFdWiNV6c"
      },
      "source": [
        "### Test using images in dataset"
      ]
    },
    {
      "cell_type": "code",
      "metadata": {
        "id": "UPaTZUCDIL90"
      },
      "source": [
        "import matplotlib.pyplot as plt\n",
        "import matplotlib.image as mpimg\n",
        "\n",
        "for i in range(0,10):\n",
        "  #Load random image\n",
        "  randomIndex = random.randint(0, len(get_image_files(foodPath))-1)\n",
        "  img = mpimg.imread(get_image_files(foodPath)[randomIndex])\n",
        "  #Put into Model\n",
        "  label,_,probs = learn.predict(img)\n",
        "\n",
        "  #Create Figure using Matplotlib\n",
        "  fig = plt.figure()\n",
        "  ax = fig.add_subplot() #Add Subplot (For multiple images)\n",
        "  imgplot = plt.imshow(img) #Add Image into Plot\n",
        "  ax.set_title(label) #Set Headline to predicted label\n",
        "\n",
        "  #Hide numbers on axes\n",
        "  plt.gca().axes.get_yaxis().set_visible(False)\n",
        "  plt.gca().axes.get_xaxis().set_visible(False)"
      ],
      "execution_count": null,
      "outputs": []
    },
    {
      "cell_type": "markdown",
      "metadata": {
        "id": "obuLvdjoZpux"
      },
      "source": [
        "### Confusion Matrix (optional)"
      ]
    },
    {
      "cell_type": "code",
      "metadata": {
        "id": "abKT6ARWiWfa"
      },
      "source": [
        "interp = ClassificationInterpretation.from_learner(learn)\n",
        "interp.plot_confusion_matrix()\n",
        "interp.plot_top_losses(6)"
      ],
      "execution_count": null,
      "outputs": []
    },
    {
      "cell_type": "markdown",
      "metadata": {
        "id": "K_eTQqqGaBay"
      },
      "source": [
        "## Deploy"
      ]
    },
    {
      "cell_type": "code",
      "metadata": {
        "id": "m3kw41RUaNQ4"
      },
      "source": [
        "learn.export() #exports model as 'export.pkl' by default"
      ],
      "execution_count": null,
      "outputs": []
    },
    {
      "cell_type": "code",
      "metadata": {
        "id": "joeW16vbb9iy"
      },
      "source": [
        "#let's grab the first pkl file we can find\n",
        "modelPath = get_files(foodPath, '.pkl')[0]\n",
        "modelPath"
      ],
      "execution_count": null,
      "outputs": []
    },
    {
      "cell_type": "code",
      "metadata": {
        "id": "6XPPbcC5dEfC"
      },
      "source": [
        "learn_inf = load_learner(modelPath)\n",
        "learn_inf.predict(mpimg.imread(get_image_files(foodPath)[0])) #raw prediction"
      ],
      "execution_count": null,
      "outputs": []
    },
    {
      "cell_type": "code",
      "metadata": {
        "id": "KddD9EmLdon0"
      },
      "source": [
        "learn_inf.dls.vocab #Get the labels"
      ],
      "execution_count": null,
      "outputs": []
    },
    {
      "cell_type": "code",
      "metadata": {
        "id": "wIOf2cRMeBpV"
      },
      "source": [
        "from google.colab import files\n",
        "files.download(modelPath)"
      ],
      "execution_count": null,
      "outputs": []
    }
  ]
}