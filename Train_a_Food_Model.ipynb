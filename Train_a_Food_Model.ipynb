{
  "nbformat": 4,
  "nbformat_minor": 0,
  "metadata": {
    "colab": {
      "name": "Train a Food Model.ipynb",
      "provenance": [],
      "collapsed_sections": [],
      "toc_visible": true,
      "authorship_tag": "ABX9TyPzIqj2K6xG+joJak1nAPlV"
    },
    "kernelspec": {
      "display_name": "Python 3",
      "name": "python3"
    }
  },
  "cells": [
    {
      "cell_type": "markdown",
      "metadata": {
        "id": "4uWUAk9dwaga"
      },
      "source": [
        "# Training a Food Classifier\n"
      ]
    },
    {
      "cell_type": "markdown",
      "metadata": {
        "id": "IfoMcIvNNnup"
      },
      "source": [
        "## Load and prepare Data"
      ]
    },
    {
      "cell_type": "markdown",
      "metadata": {
        "id": "1fFWSZtrwfJW"
      },
      "source": [
        "First we need to update the notebook to the latest version of fastai."
      ]
    },
    {
      "cell_type": "markdown",
      "metadata": {
        "id": "B1oXihOFZm9E"
      },
      "source": [
        ""
      ]
    },
    {
      "cell_type": "code",
      "metadata": {
        "id": "jJyngV4Fjnbv"
      },
      "source": [
        "!pip install -Uqq fastai \n",
        "from fastai.vision.all import *"
      ],
      "execution_count": null,
      "outputs": []
    },
    {
      "cell_type": "markdown",
      "metadata": {
        "id": "FxzIJWfEkKD8"
      },
      "source": [
        "At first we are downloading the Food Dataset, containing about 100k images of various kind of foods.\n",
        "Documentation for all Datasets: https://docs.fast.ai/data.external"
      ]
    },
    {
      "cell_type": "code",
      "metadata": {
        "id": "sOFNbnRqkQNK"
      },
      "source": [
        "foodPath = untar_data(URLs.FOOD)"
      ],
      "execution_count": null,
      "outputs": []
    },
    {
      "cell_type": "code",
      "metadata": {
        "id": "7r9DLWZwle09"
      },
      "source": [
        "#How many images are we dealing with\n",
        "len(get_image_files(foodPath))"
      ],
      "execution_count": null,
      "outputs": []
    },
    {
      "cell_type": "code",
      "metadata": {
        "id": "JDeBD6zammYh"
      },
      "source": [
        "#Use Pandas to parse the JSON as a human readable table\n",
        "pd.read_json('/root/.fastai/data/food-101/test.json')"
      ],
      "execution_count": null,
      "outputs": []
    },
    {
      "cell_type": "code",
      "metadata": {
        "id": "ekDW8aXaO8B2"
      },
      "source": [
        "#Deciding which two foods we want to classify\n",
        "labelA = 'samosa'\n",
        "labelB = 'churros'"
      ],
      "execution_count": null,
      "outputs": []
    },
    {
      "cell_type": "markdown",
      "metadata": {
        "id": "OAXTTsN9PA1N"
      },
      "source": [
        "**Some Data Preperation**\n",
        "\n",
        "Next we're gonna do some preperation to make the data handling easier. It's not important that you understand the following code snippet completly.\n",
        "\n",
        "We're just doing two things:\n",
        "\n",
        "\n",
        "1.   Removing all images that don't have labelA or labelB\n",
        "2.   Renaming images with labelA or labelB to have that label in their filename\n",
        "\n"
      ]
    },
    {
      "cell_type": "code",
      "metadata": {
        "id": "ZUhimik3og6z"
      },
      "source": [
        "#Loop through all Images downloaded\n",
        "for img in get_image_files(foodPath):    \n",
        "  #Rename Images so that the Label (Samosa or Churros) is in the file name\n",
        "  if labelA in str(img):\n",
        "    img.rename(f\"{img.parent}/{labelA}_{img.name}\")\n",
        "  elif labelB in str(img):\n",
        "    img.rename(f\"{img.parent}/{labelB}_{img.name}\")\n",
        "  else: os.remove(img) #If the Images are not part of labelA or labelB\n",
        "\n",
        "len(get_image_files(foodPath))"
      ],
      "execution_count": null,
      "outputs": []
    },
    {
      "cell_type": "markdown",
      "metadata": {
        "id": "iAcyebowOSE3"
      },
      "source": [
        "## Train Model"
      ]
    },
    {
      "cell_type": "code",
      "metadata": {
        "id": "v1JxHmHbOQD5"
      },
      "source": [
        "def GetLabel(fileName):\n",
        "  return fileName.split('_')[0]\n",
        "\n",
        "GetLabel(\"churros_734186.jpg\") #Testing"
      ],
      "execution_count": null,
      "outputs": []
    },
    {
      "cell_type": "code",
      "metadata": {
        "id": "_isQjSZ8nhut"
      },
      "source": [
        "dls = ImageDataLoaders.from_name_func(\n",
        "    foodPath, get_image_files(foodPath), valid_pct=0.2, seed=420,\n",
        "    label_func=GetLabel, item_tfms=Resize(224))\n",
        "\n",
        "dls.valid.show_batch()"
      ],
      "execution_count": null,
      "outputs": []
    },
    {
      "cell_type": "code",
      "metadata": {
        "id": "vZgFa9vdh7oZ"
      },
      "source": [
        "learn = cnn_learner(dls, resnet34, metrics=error_rate, pretrained=True)\n",
        "learn.fine_tune(epochs=1)"
      ],
      "execution_count": null,
      "outputs": []
    },
    {
      "cell_type": "markdown",
      "metadata": {
        "id": "KDJ9tN696LZR"
      },
      "source": [
        "Check out this while training to have look inside a Convolutional Neural Network.\n",
        "\n",
        "https://distill.pub/2017/feature-visualization/"
      ]
    },
    {
      "cell_type": "markdown",
      "metadata": {
        "id": "8UyNZyc1Ne15"
      },
      "source": [
        "## Verify Model"
      ]
    },
    {
      "cell_type": "markdown",
      "metadata": {
        "id": "IvZWtIniH2Bw"
      },
      "source": [
        "### Upload your own Images"
      ]
    },
    {
      "cell_type": "code",
      "metadata": {
        "id": "fQgVZ95CD-TT"
      },
      "source": [
        "from google.colab import files\n",
        "uploader = files.upload()\n",
        "\n",
        "for img in uploader.items():\n",
        "  uploadedImg = img[0]\n",
        "\n",
        "img = PILImage.create(uploadedImg)\n",
        "img.show()\n",
        "\n",
        "label,_,probs = learn.predict(img)\n",
        "\n",
        "print(f\"This is a {label}.\")\n",
        "print(f\"{labelA} {probs[1].item():.6f}\")\n",
        "print(f\"{labelB} {probs[0].item():.6f}\")"
      ],
      "execution_count": null,
      "outputs": []
    },
    {
      "cell_type": "markdown",
      "metadata": {
        "id": "JiTFFdWiNV6c"
      },
      "source": [
        "### Test using images in dataset"
      ]
    },
    {
      "cell_type": "code",
      "metadata": {
        "id": "UPaTZUCDIL90"
      },
      "source": [
        "import matplotlib.pyplot as plt\n",
        "import matplotlib.image as mpimg\n",
        "\n",
        "for i in range(0,10):\n",
        "  #Load random image\n",
        "  randomIndex = random.randint(0, len(get_image_files(foodPath))-1)\n",
        "  img = mpimg.imread(get_image_files(foodPath)[randomIndex])\n",
        "  #Put into Model\n",
        "  label,_,probs = learn.predict(img)\n",
        "\n",
        "  #Create Figure using Matplotlib\n",
        "  fig = plt.figure()\n",
        "  ax = fig.add_subplot() #Add Subplot (For multiple images)\n",
        "  imgplot = plt.imshow(img) #Add Image into Plot\n",
        "  ax.set_title(label) #Set Headline to predicted label\n",
        "\n",
        "  #Hide numbers on axes\n",
        "  plt.gca().axes.get_yaxis().set_visible(False)\n",
        "  plt.gca().axes.get_xaxis().set_visible(False)"
      ],
      "execution_count": null,
      "outputs": []
    },
    {
      "cell_type": "markdown",
      "metadata": {
        "id": "obuLvdjoZpux"
      },
      "source": [
        "### Confusion Matrix (optional)"
      ]
    },
    {
      "cell_type": "code",
      "metadata": {
        "id": "abKT6ARWiWfa"
      },
      "source": [
        "interp = ClassificationInterpretation.from_learner(learn)\n",
        "interp.plot_confusion_matrix()\n",
        "interp.plot_top_losses(6)"
      ],
      "execution_count": null,
      "outputs": []
    },
    {
      "cell_type": "markdown",
      "metadata": {
        "id": "K_eTQqqGaBay"
      },
      "source": [
        "## Deploy"
      ]
    },
    {
      "cell_type": "code",
      "metadata": {
        "id": "m3kw41RUaNQ4"
      },
      "source": [
        "learn.export() #exports model as 'export.pkl' by default"
      ],
      "execution_count": null,
      "outputs": []
    },
    {
      "cell_type": "code",
      "metadata": {
        "id": "joeW16vbb9iy"
      },
      "source": [
        "#let's grab the first pkl file we can find\n",
        "modelPath = get_files(foodPath, '.pkl')[0]\n",
        "modelPath"
      ],
      "execution_count": null,
      "outputs": []
    },
    {
      "cell_type": "code",
      "metadata": {
        "id": "6XPPbcC5dEfC"
      },
      "source": [
        "learn_inf = load_learner(modelPath)\n",
        "learn_inf.predict(mpimg.imread(get_image_files(foodPath)[0])) #raw prediction"
      ],
      "execution_count": null,
      "outputs": []
    },
    {
      "cell_type": "code",
      "metadata": {
        "id": "KddD9EmLdon0"
      },
      "source": [
        "learn_inf.dls.vocab #Get the labels"
      ],
      "execution_count": null,
      "outputs": []
    },
    {
      "cell_type": "code",
      "metadata": {
        "id": "wIOf2cRMeBpV"
      },
      "source": [
        "#This seems to only work properly in Chrome\n",
        "from google.colab import files\n",
        "files.download(modelPath)"
      ],
      "execution_count": null,
      "outputs": []
    },
    {
      "cell_type": "markdown",
      "metadata": {
        "id": "kfLrj3c4crJu"
      },
      "source": [
        "### Alternative download method\n",
        "Download for non-chrome users only:"
      ]
    },
    {
      "cell_type": "code",
      "metadata": {
        "id": "qZfLtowRcpzF"
      },
      "source": [
        "shutil.move(str(modelPath), './')"
      ],
      "execution_count": null,
      "outputs": []
    },
    {
      "cell_type": "markdown",
      "metadata": {
        "id": "9Vqp_VlUdKWW"
      },
      "source": [
        "This has moved the file. You should now be able to see it in the Colab File browser on the right and download it there. \n",
        "\n",
        "![Bildschirmfoto 2020-12-03 um 17.33.51.png](data:image/png;base64,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)"
      ]
    }
  ]
}